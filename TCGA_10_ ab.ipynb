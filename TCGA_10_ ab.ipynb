{
 "cells": [
  {
   "cell_type": "markdown",
   "metadata": {},
   "source": [
    "# Acquiring TCGA V 1.0 data from terra for use with Bioc\n",
    "\n",
    "We'll use the R 3.6.1, Bioc 3.9 environment.  We will use BiocAnvilTK::build_tcga_mat for\n",
    "various tumor and assay types.  Basic parameters are\n",
    "\n",
    "- site -- a string defining a tumor site like 'brca' -- see vector 'allsites' below\n",
    "- brief_assay -- a string selecting an assay type -- see vector 'assay_cands' below; use 'names' of this vector\n",
    "- assay -- the long name used in the google buckets, very unwieldy, generally this will not be set manually but takes its value using `brief_assay`\n",
    "- suffix -- a string to distinguish the folder where text files are localized\n",
    "- choice -- a number to select among multiple versions of assay texts, when such exist\n",
    "\n",
    "A call to `build_mat` returns a matrix with rownames given by the feature names in the\n",
    "files of quantifications (assumed common to all files provided) and column names given\n",
    "by the long TCGA sample identifiers used in the headers of the files in google buckets.\n",
    "\n",
    "## Set up package collection\n",
    "\n",
    "We need to install current rapiclient and AnVIL from\n",
    "Bioconductor's github repo.\n"
   ]
  },
  {
   "cell_type": "code",
   "execution_count": 19,
   "metadata": {},
   "outputs": [
    {
     "data": {
      "text/html": [
       "<ol class=list-inline>\n",
       "\t<li>213</li>\n",
       "\t<li>16</li>\n",
       "</ol>\n"
      ],
      "text/latex": [
       "\\begin{enumerate*}\n",
       "\\item 213\n",
       "\\item 16\n",
       "\\end{enumerate*}\n"
      ],
      "text/markdown": [
       "1. 213\n",
       "2. 16\n",
       "\n",
       "\n"
      ],
      "text/plain": [
       "[1] 213  16"
      ]
     },
     "metadata": {},
     "output_type": "display_data"
    }
   ],
   "source": [
    "dim(installed.packages())"
   ]
  },
  {
   "cell_type": "code",
   "execution_count": 20,
   "metadata": {},
   "outputs": [],
   "source": [
    "sm = suppressMessages\n",
    "ss = suppressPackageStartupMessages\n",
    "avail = rownames(installed.packages())\n",
    "inst_if_needed = function(pkname, rid) if (!(pkname %in% avail)) BiocManager::install(rid, ask=FALSE)\n",
    "sm(ss({\n",
    "    library(BiocManager)\n",
    "    BiocManager::install(\"Bioconductor/AnVIL_rapiclient\") # could check installed version to condition\n",
    "    inst_if_needed(\"AnVIL\", \"Bioconductor/AnVIL\")\n",
    "    inst_if_needed(\"BiocAnvilTK\", \"vjcitn/BiocAnvilTK\")\n",
    "    }))"
   ]
  },
  {
   "cell_type": "markdown",
   "metadata": {},
   "source": [
    "## Background: Use AnVIL package to get tabular information on TCGA\n",
    "\n",
    "In the following code, we use `avtable` to obtain comprehensive information about\n",
    "the V1-0 open access TCGA data on glioblastoma multiforme (GBM) in AnVIL."
   ]
  },
  {
   "cell_type": "code",
   "execution_count": 21,
   "metadata": {},
   "outputs": [],
   "source": [
    "ss(library(AnVIL))"
   ]
  },
  {
   "cell_type": "code",
   "execution_count": 23,
   "metadata": {},
   "outputs": [
    {
     "data": {
      "text/html": [
       "<ol class=list-inline>\n",
       "\t<li>1146</li>\n",
       "\t<li>33</li>\n",
       "</ol>\n"
      ],
      "text/latex": [
       "\\begin{enumerate*}\n",
       "\\item 1146\n",
       "\\item 33\n",
       "\\end{enumerate*}\n"
      ],
      "text/markdown": [
       "1. 1146\n",
       "2. 33\n",
       "\n",
       "\n"
      ],
      "text/plain": [
       "[1] 1146   33"
      ]
     },
     "metadata": {},
     "output_type": "display_data"
    }
   ],
   "source": [
    "bigt = avtable(\"sample\", namespace=\"broad-firecloud-tcga\",\n",
    "   name=\"TCGA_GBM_OpenAccess_V1-0_DATA\")\n",
    "#datatable(as.data.frame(bigt))\n",
    "dim(bigt)"
   ]
  },
  {
   "cell_type": "markdown",
   "metadata": {},
   "source": [
    "This shows that there are 33 columns with information about 1146 samples.  The column names of this\n",
    "table are unwieldy, but we will establish some abbreviations."
   ]
  },
  {
   "cell_type": "code",
   "execution_count": 24,
   "metadata": {},
   "outputs": [
    {
     "name": "stdout",
     "output_type": "stream",
     "text": [
      "Observations: 1,146\n",
      "Variables: 33\n",
      "$ name                                                                                            \u001b[3m\u001b[90m<chr>\u001b[39m\u001b[23m …\n",
      "$ sample_type                                                                                     \u001b[3m\u001b[90m<chr>\u001b[39m\u001b[23m …\n",
      "$ clin__bio__nationwidechildrens_org__Level_1__biospecimen__clin                                  \u001b[3m\u001b[90m<chr>\u001b[39m\u001b[23m …\n",
      "$ snp__genome_wide_snp_6__broad_mit_edu__Level_3__segmented_scna_minus_germline_cnv_hg18__seg     \u001b[3m\u001b[90m<chr>\u001b[39m\u001b[23m …\n",
      "$ snp__humanhap550__hudsonalpha_org__Level_3__segmented_cnv__seg                                  \u001b[3m\u001b[90m<chr>\u001b[39m\u001b[23m …\n",
      "$ snp__genome_wide_snp_6__broad_mit_edu__Level_3__segmented_scna_hg18__seg                        \u001b[3m\u001b[90m<chr>\u001b[39m\u001b[23m …\n",
      "$ clin__bio__intgen_org__Level_1__clinical__clin                                                  \u001b[3m\u001b[90m<chr>\u001b[39m\u001b[23m …\n",
      "$ clin__bio__nationwidechildrens_org__Level_1__clinical__clin                                     \u001b[3m\u001b[90m<chr>\u001b[39m\u001b[23m …\n",
      "$ snp__genome_wide_snp_6__broad_mit_edu__Level_3__segmented_scna_hg19__seg                        \u001b[3m\u001b[90m<chr>\u001b[39m\u001b[23m …\n",
      "$ snp__genome_wide_snp_6__broad_mit_edu__Level_3__segmented_scna_minus_germline_cnv_hg19__seg     \u001b[3m\u001b[90m<chr>\u001b[39m\u001b[23m …\n",
      "$ tcga_sample_id                                                                                  \u001b[3m\u001b[90m<chr>\u001b[39m\u001b[23m …\n",
      "$ clin__bio__intgen_org__Level_1__biospecimen__clin                                               \u001b[3m\u001b[90m<chr>\u001b[39m\u001b[23m …\n",
      "$ cna__hg_cgh_244a__mskcc_org__Level_3__segmentation_data_computation__seg                        \u001b[3m\u001b[90m<chr>\u001b[39m\u001b[23m …\n",
      "$ mirna__h_mirna_8x15k__unc_edu__Level_3__unc_DWD_Batch_adjusted__data                            \u001b[3m\u001b[90m<chr>\u001b[39m\u001b[23m …\n",
      "$ transcriptome__ht_hg_u133a__broad_mit_edu__Level_3__gene_rma__data                              \u001b[3m\u001b[90m<chr>\u001b[39m\u001b[23m …\n",
      "$ snp__humanhap550__hudsonalpha_org__Level_3__segmented_loh__seg                                  \u001b[3m\u001b[90m<chr>\u001b[39m\u001b[23m …\n",
      "$ methylation__humanmethylation27__jhu_usc_edu__Level_3__within_bioassay_data_set_function__data  \u001b[3m\u001b[90m<chr>\u001b[39m\u001b[23m …\n",
      "$ transcriptome__agilentg4502a_07_1__unc_edu__Level_3__unc_lowess_normalization_gene_level__data  \u001b[3m\u001b[90m<chr>\u001b[39m\u001b[23m …\n",
      "$ cna__hg_cgh_244a__hms_harvard_edu__Level_3__segmentation__seg                                   \u001b[3m\u001b[90m<chr>\u001b[39m\u001b[23m …\n",
      "$ snp__humanhap550__hudsonalpha_org__Level_3__segmented_cna__seg                                  \u001b[3m\u001b[90m<chr>\u001b[39m\u001b[23m …\n",
      "$ protein_exp__mda_rppa_core__mdanderson_org__Level_3__protein_normalization__data                \u001b[3m\u001b[90m<chr>\u001b[39m\u001b[23m …\n",
      "$ transcriptome__agilentg4502a_07_2__unc_edu__Level_3__unc_lowess_normalization_gene_level__data  \u001b[3m\u001b[90m<chr>\u001b[39m\u001b[23m …\n",
      "$ rnaseqv2__illuminahiseq_rnaseqv2__unc_edu__Level_3__RSEM_genes_normalized__data                 \u001b[3m\u001b[90m<chr>\u001b[39m\u001b[23m …\n",
      "$ rnaseqv2__illuminahiseq_rnaseqv2__unc_edu__Level_3__exon_quantification__data                   \u001b[3m\u001b[90m<chr>\u001b[39m\u001b[23m …\n",
      "$ rnaseqv2__illuminahiseq_rnaseqv2__unc_edu__Level_3__junction_quantification__data               \u001b[3m\u001b[90m<chr>\u001b[39m\u001b[23m …\n",
      "$ rnaseqv2__illuminahiseq_rnaseqv2__unc_edu__Level_3__RSEM_isoforms__data                         \u001b[3m\u001b[90m<chr>\u001b[39m\u001b[23m …\n",
      "$ cna__hg_cgh_415k_g4124a__hms_harvard_edu__Level_3__segmentation__seg                            \u001b[3m\u001b[90m<chr>\u001b[39m\u001b[23m …\n",
      "$ methylation__humanmethylation450__jhu_usc_edu__Level_3__within_bioassay_data_set_function__data \u001b[3m\u001b[90m<chr>\u001b[39m\u001b[23m …\n",
      "$ rnaseqv2__illuminahiseq_rnaseqv2__unc_edu__Level_3__RSEM_genes__data                            \u001b[3m\u001b[90m<chr>\u001b[39m\u001b[23m …\n",
      "$ mirnaseq__illuminahiseq_mirnaseq__bcgsc_ca__Level_3__miR_isoform_expression__data               \u001b[3m\u001b[90m<chr>\u001b[39m\u001b[23m …\n",
      "$ mirnaseq__illuminahiseq_mirnaseq__bcgsc_ca__Level_3__miR_gene_expression__data                  \u001b[3m\u001b[90m<chr>\u001b[39m\u001b[23m …\n",
      "$ rnaseqv2__illuminahiseq_rnaseqv2__unc_edu__Level_3__RSEM_isoforms_normalized__data              \u001b[3m\u001b[90m<chr>\u001b[39m\u001b[23m …\n",
      "$ participant                                                                                     \u001b[3m\u001b[90m<chr>\u001b[39m\u001b[23m …\n"
     ]
    }
   ],
   "source": [
    "glimpse(bigt)"
   ]
  },
  {
   "cell_type": "markdown",
   "metadata": {},
   "source": [
    "We will cut down the information and rename a column with information on normalized gene\n",
    "expression measures from RSEM-processed RNA-seq."
   ]
  },
  {
   "cell_type": "code",
   "execution_count": 25,
   "metadata": {},
   "outputs": [
    {
     "data": {
      "text/html": [
       "<table>\n",
       "<caption>A tibble: 6 × 4</caption>\n",
       "<thead>\n",
       "\t<tr><th scope=col>name</th><th scope=col>tcga_sample_id</th><th scope=col>sample_type</th><th scope=col>RNASeq2GeneNorm</th></tr>\n",
       "\t<tr><th scope=col>&lt;chr&gt;</th><th scope=col>&lt;chr&gt;</th><th scope=col>&lt;chr&gt;</th><th scope=col>&lt;chr&gt;</th></tr>\n",
       "</thead>\n",
       "<tbody>\n",
       "\t<tr><td>GBM-02-0047-TP</td><td>TCGA-02-0047-01</td><td>TP</td><td>gs://firecloud-tcga-open-access/tcga/dcc/gbm/rnaseqv2__illuminahiseq_rnaseqv2__unc_edu__Level_3__RSEM_genes_normalized__data/unc.edu_GBM.IlluminaHiSeq_RNASeqV2.Level_3.1.2.0/TCGA-02-0047-01A-01R-1849-01.data.txt</td></tr>\n",
       "\t<tr><td>GBM-02-0055-TP</td><td>TCGA-02-0055-01</td><td>TP</td><td>gs://firecloud-tcga-open-access/tcga/dcc/gbm/rnaseqv2__illuminahiseq_rnaseqv2__unc_edu__Level_3__RSEM_genes_normalized__data/unc.edu_GBM.IlluminaHiSeq_RNASeqV2.Level_3.1.2.0/TCGA-02-0055-01A-01R-1849-01.data.txt</td></tr>\n",
       "\t<tr><td>GBM-02-2483-TP</td><td>TCGA-02-2483-01</td><td>TP</td><td>gs://firecloud-tcga-open-access/tcga/dcc/gbm/rnaseqv2__illuminahiseq_rnaseqv2__unc_edu__Level_3__RSEM_genes_normalized__data/unc.edu_GBM.IlluminaHiSeq_RNASeqV2.Level_3.1.2.0/TCGA-02-2483-01A-01R-1849-01.data.txt</td></tr>\n",
       "\t<tr><td>GBM-02-2485-TP</td><td>TCGA-02-2485-01</td><td>TP</td><td>gs://firecloud-tcga-open-access/tcga/dcc/gbm/rnaseqv2__illuminahiseq_rnaseqv2__unc_edu__Level_3__RSEM_genes_normalized__data/unc.edu_GBM.IlluminaHiSeq_RNASeqV2.Level_3.1.2.0/TCGA-02-2485-01A-01R-1849-01.data.txt</td></tr>\n",
       "\t<tr><td>GBM-02-2486-TP</td><td>TCGA-02-2486-01</td><td>TP</td><td>gs://firecloud-tcga-open-access/tcga/dcc/gbm/rnaseqv2__illuminahiseq_rnaseqv2__unc_edu__Level_3__RSEM_genes_normalized__data/unc.edu_GBM.IlluminaHiSeq_RNASeqV2.Level_3.1.2.0/TCGA-02-2486-01A-01R-1849-01.data.txt</td></tr>\n",
       "\t<tr><td>GBM-06-0125-TP</td><td>TCGA-06-0125-01</td><td>TP</td><td>gs://firecloud-tcga-open-access/tcga/dcc/gbm/rnaseqv2__illuminahiseq_rnaseqv2__unc_edu__Level_3__RSEM_genes_normalized__data/unc.edu_GBM.IlluminaHiSeq_RNASeqV2.Level_3.1.2.0/TCGA-06-0125-01A-01R-1849-01.data.txt</td></tr>\n",
       "</tbody>\n",
       "</table>\n"
      ],
      "text/latex": [
       "A tibble: 6 × 4\n",
       "\\begin{tabular}{r|llll}\n",
       " name & tcga\\_sample\\_id & sample\\_type & RNASeq2GeneNorm\\\\\n",
       " <chr> & <chr> & <chr> & <chr>\\\\\n",
       "\\hline\n",
       "\t GBM-02-0047-TP & TCGA-02-0047-01 & TP & gs://firecloud-tcga-open-access/tcga/dcc/gbm/rnaseqv2\\_\\_illuminahiseq\\_rnaseqv2\\_\\_unc\\_edu\\_\\_Level\\_3\\_\\_RSEM\\_genes\\_normalized\\_\\_data/unc.edu\\_GBM.IlluminaHiSeq\\_RNASeqV2.Level\\_3.1.2.0/TCGA-02-0047-01A-01R-1849-01.data.txt\\\\\n",
       "\t GBM-02-0055-TP & TCGA-02-0055-01 & TP & gs://firecloud-tcga-open-access/tcga/dcc/gbm/rnaseqv2\\_\\_illuminahiseq\\_rnaseqv2\\_\\_unc\\_edu\\_\\_Level\\_3\\_\\_RSEM\\_genes\\_normalized\\_\\_data/unc.edu\\_GBM.IlluminaHiSeq\\_RNASeqV2.Level\\_3.1.2.0/TCGA-02-0055-01A-01R-1849-01.data.txt\\\\\n",
       "\t GBM-02-2483-TP & TCGA-02-2483-01 & TP & gs://firecloud-tcga-open-access/tcga/dcc/gbm/rnaseqv2\\_\\_illuminahiseq\\_rnaseqv2\\_\\_unc\\_edu\\_\\_Level\\_3\\_\\_RSEM\\_genes\\_normalized\\_\\_data/unc.edu\\_GBM.IlluminaHiSeq\\_RNASeqV2.Level\\_3.1.2.0/TCGA-02-2483-01A-01R-1849-01.data.txt\\\\\n",
       "\t GBM-02-2485-TP & TCGA-02-2485-01 & TP & gs://firecloud-tcga-open-access/tcga/dcc/gbm/rnaseqv2\\_\\_illuminahiseq\\_rnaseqv2\\_\\_unc\\_edu\\_\\_Level\\_3\\_\\_RSEM\\_genes\\_normalized\\_\\_data/unc.edu\\_GBM.IlluminaHiSeq\\_RNASeqV2.Level\\_3.1.2.0/TCGA-02-2485-01A-01R-1849-01.data.txt\\\\\n",
       "\t GBM-02-2486-TP & TCGA-02-2486-01 & TP & gs://firecloud-tcga-open-access/tcga/dcc/gbm/rnaseqv2\\_\\_illuminahiseq\\_rnaseqv2\\_\\_unc\\_edu\\_\\_Level\\_3\\_\\_RSEM\\_genes\\_normalized\\_\\_data/unc.edu\\_GBM.IlluminaHiSeq\\_RNASeqV2.Level\\_3.1.2.0/TCGA-02-2486-01A-01R-1849-01.data.txt\\\\\n",
       "\t GBM-06-0125-TP & TCGA-06-0125-01 & TP & gs://firecloud-tcga-open-access/tcga/dcc/gbm/rnaseqv2\\_\\_illuminahiseq\\_rnaseqv2\\_\\_unc\\_edu\\_\\_Level\\_3\\_\\_RSEM\\_genes\\_normalized\\_\\_data/unc.edu\\_GBM.IlluminaHiSeq\\_RNASeqV2.Level\\_3.1.2.0/TCGA-06-0125-01A-01R-1849-01.data.txt\\\\\n",
       "\\end{tabular}\n"
      ],
      "text/markdown": [
       "\n",
       "A tibble: 6 × 4\n",
       "\n",
       "| name &lt;chr&gt; | tcga_sample_id &lt;chr&gt; | sample_type &lt;chr&gt; | RNASeq2GeneNorm &lt;chr&gt; |\n",
       "|---|---|---|---|\n",
       "| GBM-02-0047-TP | TCGA-02-0047-01 | TP | gs://firecloud-tcga-open-access/tcga/dcc/gbm/rnaseqv2__illuminahiseq_rnaseqv2__unc_edu__Level_3__RSEM_genes_normalized__data/unc.edu_GBM.IlluminaHiSeq_RNASeqV2.Level_3.1.2.0/TCGA-02-0047-01A-01R-1849-01.data.txt |\n",
       "| GBM-02-0055-TP | TCGA-02-0055-01 | TP | gs://firecloud-tcga-open-access/tcga/dcc/gbm/rnaseqv2__illuminahiseq_rnaseqv2__unc_edu__Level_3__RSEM_genes_normalized__data/unc.edu_GBM.IlluminaHiSeq_RNASeqV2.Level_3.1.2.0/TCGA-02-0055-01A-01R-1849-01.data.txt |\n",
       "| GBM-02-2483-TP | TCGA-02-2483-01 | TP | gs://firecloud-tcga-open-access/tcga/dcc/gbm/rnaseqv2__illuminahiseq_rnaseqv2__unc_edu__Level_3__RSEM_genes_normalized__data/unc.edu_GBM.IlluminaHiSeq_RNASeqV2.Level_3.1.2.0/TCGA-02-2483-01A-01R-1849-01.data.txt |\n",
       "| GBM-02-2485-TP | TCGA-02-2485-01 | TP | gs://firecloud-tcga-open-access/tcga/dcc/gbm/rnaseqv2__illuminahiseq_rnaseqv2__unc_edu__Level_3__RSEM_genes_normalized__data/unc.edu_GBM.IlluminaHiSeq_RNASeqV2.Level_3.1.2.0/TCGA-02-2485-01A-01R-1849-01.data.txt |\n",
       "| GBM-02-2486-TP | TCGA-02-2486-01 | TP | gs://firecloud-tcga-open-access/tcga/dcc/gbm/rnaseqv2__illuminahiseq_rnaseqv2__unc_edu__Level_3__RSEM_genes_normalized__data/unc.edu_GBM.IlluminaHiSeq_RNASeqV2.Level_3.1.2.0/TCGA-02-2486-01A-01R-1849-01.data.txt |\n",
       "| GBM-06-0125-TP | TCGA-06-0125-01 | TP | gs://firecloud-tcga-open-access/tcga/dcc/gbm/rnaseqv2__illuminahiseq_rnaseqv2__unc_edu__Level_3__RSEM_genes_normalized__data/unc.edu_GBM.IlluminaHiSeq_RNASeqV2.Level_3.1.2.0/TCGA-06-0125-01A-01R-1849-01.data.txt |\n",
       "\n"
      ],
      "text/plain": [
       "  name           tcga_sample_id  sample_type\n",
       "1 GBM-02-0047-TP TCGA-02-0047-01 TP         \n",
       "2 GBM-02-0055-TP TCGA-02-0055-01 TP         \n",
       "3 GBM-02-2483-TP TCGA-02-2483-01 TP         \n",
       "4 GBM-02-2485-TP TCGA-02-2485-01 TP         \n",
       "5 GBM-02-2486-TP TCGA-02-2486-01 TP         \n",
       "6 GBM-06-0125-TP TCGA-06-0125-01 TP         \n",
       "  RNASeq2GeneNorm                                                                                                                                                                                                    \n",
       "1 gs://firecloud-tcga-open-access/tcga/dcc/gbm/rnaseqv2__illuminahiseq_rnaseqv2__unc_edu__Level_3__RSEM_genes_normalized__data/unc.edu_GBM.IlluminaHiSeq_RNASeqV2.Level_3.1.2.0/TCGA-02-0047-01A-01R-1849-01.data.txt\n",
       "2 gs://firecloud-tcga-open-access/tcga/dcc/gbm/rnaseqv2__illuminahiseq_rnaseqv2__unc_edu__Level_3__RSEM_genes_normalized__data/unc.edu_GBM.IlluminaHiSeq_RNASeqV2.Level_3.1.2.0/TCGA-02-0055-01A-01R-1849-01.data.txt\n",
       "3 gs://firecloud-tcga-open-access/tcga/dcc/gbm/rnaseqv2__illuminahiseq_rnaseqv2__unc_edu__Level_3__RSEM_genes_normalized__data/unc.edu_GBM.IlluminaHiSeq_RNASeqV2.Level_3.1.2.0/TCGA-02-2483-01A-01R-1849-01.data.txt\n",
       "4 gs://firecloud-tcga-open-access/tcga/dcc/gbm/rnaseqv2__illuminahiseq_rnaseqv2__unc_edu__Level_3__RSEM_genes_normalized__data/unc.edu_GBM.IlluminaHiSeq_RNASeqV2.Level_3.1.2.0/TCGA-02-2485-01A-01R-1849-01.data.txt\n",
       "5 gs://firecloud-tcga-open-access/tcga/dcc/gbm/rnaseqv2__illuminahiseq_rnaseqv2__unc_edu__Level_3__RSEM_genes_normalized__data/unc.edu_GBM.IlluminaHiSeq_RNASeqV2.Level_3.1.2.0/TCGA-02-2486-01A-01R-1849-01.data.txt\n",
       "6 gs://firecloud-tcga-open-access/tcga/dcc/gbm/rnaseqv2__illuminahiseq_rnaseqv2__unc_edu__Level_3__RSEM_genes_normalized__data/unc.edu_GBM.IlluminaHiSeq_RNASeqV2.Level_3.1.2.0/TCGA-06-0125-01A-01R-1849-01.data.txt"
      ]
     },
     "metadata": {},
     "output_type": "display_data"
    }
   ],
   "source": [
    "okt = bigt %>% \n",
    "  mutate(RNASeq2GeneNorm=rnaseqv2__illuminahiseq_rnaseqv2__unc_edu__Level_3__RSEM_genes_normalized__data) %>% \n",
    "  select(name, tcga_sample_id, sample_type, RNASeq2GeneNorm)  %>% filter(!is.na(RNASeq2GeneNorm))\n",
    "head(okt)"
   ]
  },
  {
   "cell_type": "markdown",
   "metadata": {},
   "source": [
    "The RNASeq2GeneNorm column in the filtered table above gives the location in Google Cloud Storage of each\n",
    "participants RNA-seq expression measures.  We will make use of that information, implicitly, in the next section.\n",
    "We gain a lot from the convention that the path to the data in Google storage is regimented, with\n",
    "common patterns for all tumor sites."
   ]
  },
  {
   "cell_type": "markdown",
   "metadata": {},
   "source": [
    "## Build the RSEM gene-level matrix for GBM\n",
    "\n",
    "We need to know some conventions for building matrices from AnVIL TCGA data.  "
   ]
  },
  {
   "cell_type": "code",
   "execution_count": 26,
   "metadata": {},
   "outputs": [],
   "source": [
    "ss(library(BiocAnvilTK)) # attach package"
   ]
  },
  {
   "cell_type": "markdown",
   "metadata": {},
   "source": [
    "We have a small number of functions defined in the BiocAnvilTK package."
   ]
  },
  {
   "cell_type": "code",
   "execution_count": 27,
   "metadata": {},
   "outputs": [
    {
     "data": {
      "text/html": [
       "<ol class=list-inline>\n",
       "\t<li>'build_tcga_mat'</li>\n",
       "\t<li>'gdc_assay_map'</li>\n",
       "\t<li>'localize_tumor_site'</li>\n",
       "\t<li>'tcga_sites'</li>\n",
       "</ol>\n"
      ],
      "text/latex": [
       "\\begin{enumerate*}\n",
       "\\item 'build\\_tcga\\_mat'\n",
       "\\item 'gdc\\_assay\\_map'\n",
       "\\item 'localize\\_tumor\\_site'\n",
       "\\item 'tcga\\_sites'\n",
       "\\end{enumerate*}\n"
      ],
      "text/markdown": [
       "1. 'build_tcga_mat'\n",
       "2. 'gdc_assay_map'\n",
       "3. 'localize_tumor_site'\n",
       "4. 'tcga_sites'\n",
       "\n",
       "\n"
      ],
      "text/plain": [
       "[1] \"build_tcga_mat\"      \"gdc_assay_map\"       \"localize_tumor_site\"\n",
       "[4] \"tcga_sites\"         "
      ]
     },
     "metadata": {},
     "output_type": "display_data"
    }
   ],
   "source": [
    "ls(\"package:BiocAnvilTK\")"
   ]
  },
  {
   "cell_type": "markdown",
   "metadata": {},
   "source": [
    "Tumor site codes are fundamental."
   ]
  },
  {
   "cell_type": "code",
   "execution_count": 28,
   "metadata": {},
   "outputs": [
    {
     "data": {
      "text/html": [
       "34"
      ],
      "text/latex": [
       "34"
      ],
      "text/markdown": [
       "34"
      ],
      "text/plain": [
       "[1] 34"
      ]
     },
     "metadata": {},
     "output_type": "display_data"
    },
    {
     "data": {
      "text/html": [
       "<ol class=list-inline>\n",
       "\t<li>'acc'</li>\n",
       "\t<li>'blca'</li>\n",
       "\t<li>'brca'</li>\n",
       "\t<li>'cesc'</li>\n",
       "\t<li>'chol'</li>\n",
       "\t<li>'coad'</li>\n",
       "</ol>\n"
      ],
      "text/latex": [
       "\\begin{enumerate*}\n",
       "\\item 'acc'\n",
       "\\item 'blca'\n",
       "\\item 'brca'\n",
       "\\item 'cesc'\n",
       "\\item 'chol'\n",
       "\\item 'coad'\n",
       "\\end{enumerate*}\n"
      ],
      "text/markdown": [
       "1. 'acc'\n",
       "2. 'blca'\n",
       "3. 'brca'\n",
       "4. 'cesc'\n",
       "5. 'chol'\n",
       "6. 'coad'\n",
       "\n",
       "\n"
      ],
      "text/plain": [
       "[1] \"acc\"  \"blca\" \"brca\" \"cesc\" \"chol\" \"coad\""
      ]
     },
     "metadata": {},
     "output_type": "display_data"
    }
   ],
   "source": [
    "length(tcga_sites())\n",
    "head(tcga_sites())"
   ]
  },
  {
   "cell_type": "markdown",
   "metadata": {},
   "source": [
    "Assay names are unwieldy.  We have abbreviations that are 'names' of the assays.  We'll use the names to\n",
    "the left to refer to assays, whose provenance is spelled out in the long name, on the right."
   ]
  },
  {
   "cell_type": "code",
   "execution_count": 29,
   "metadata": {},
   "outputs": [
    {
     "data": {
      "text/html": [
       "<dl class=dl-horizontal>\n",
       "\t<dt>biospecimen_clin</dt>\n",
       "\t\t<dd>'clin__bio__nationwidechildrens_org__Level_1__biospecimen__clin'</dd>\n",
       "\t<dt>clin</dt>\n",
       "\t\t<dd>'clin__bio__nationwidechildrens_org__Level_1__clinical__clin'</dd>\n",
       "\t<dt>cna</dt>\n",
       "\t\t<dd>'cna__illuminahiseq_dnaseqc__hms_harvard_edu__Level_3__segmentation__seg'</dd>\n",
       "\t<dt>meth27</dt>\n",
       "\t\t<dd>'methylation__humanmethylation27__jhu_usc_edu__Level_3__within_bioassay_data_set_function__data'</dd>\n",
       "\t<dt>meth450</dt>\n",
       "\t\t<dd>'methylation__humanmethylation450__jhu_usc_edu__Level_3__within_bioassay_data_set_function__data'</dd>\n",
       "\t<dt>mir_ga_gene</dt>\n",
       "\t\t<dd>'mirnaseq__illuminaga_mirnaseq__bcgsc_ca__Level_3__miR_gene_expression__data'</dd>\n",
       "\t<dt>mir_hiseq_gene</dt>\n",
       "\t\t<dd>'mirnaseq__illuminaga_mirnaseq__bcgsc_ca__Level_3__miR_isoform_expression__data'</dd>\n",
       "\t<dt>mir_hiseq_gene</dt>\n",
       "\t\t<dd>'mirnaseq__illuminahiseq_mirnaseq__bcgsc_ca__Level_3__miR_gene_expression__data'</dd>\n",
       "\t<dt>mir_hiseq_iso</dt>\n",
       "\t\t<dd>'mirnaseq__illuminahiseq_mirnaseq__bcgsc_ca__Level_3__miR_isoform_expression__data'</dd>\n",
       "\t<dt>rppa</dt>\n",
       "\t\t<dd>'protein_exp__mda_rppa_core__mdanderson_org__Level_3__protein_normalization__data'</dd>\n",
       "\t<dt>rnaseq_exon_expr</dt>\n",
       "\t\t<dd>'rnaseq__illuminahiseq_rnaseq__unc_edu__Level_3__exon_expression__data'</dd>\n",
       "\t<dt>rnaseq_gene</dt>\n",
       "\t\t<dd>'rnaseq__illuminahiseq_rnaseq__unc_edu__Level_3__gene_expression__data'</dd>\n",
       "\t<dt>rnaseq_spljunc</dt>\n",
       "\t\t<dd>'rnaseq__illuminahiseq_rnaseq__unc_edu__Level_3__splice_junction_expression__data'</dd>\n",
       "\t<dt>rsem_genes</dt>\n",
       "\t\t<dd>'rnaseqv2__illuminahiseq_rnaseqv2__unc_edu__Level_3__RSEM_genes__data'</dd>\n",
       "\t<dt>rsem_genes_norm</dt>\n",
       "\t\t<dd>'rnaseqv2__illuminahiseq_rnaseqv2__unc_edu__Level_3__RSEM_genes_normalized__data'</dd>\n",
       "\t<dt>rsem_isoforms</dt>\n",
       "\t\t<dd>'rnaseqv2__illuminahiseq_rnaseqv2__unc_edu__Level_3__RSEM_isoforms__data'</dd>\n",
       "\t<dt>rsem_isoforms_norm</dt>\n",
       "\t\t<dd>'rnaseqv2__illuminahiseq_rnaseqv2__unc_edu__Level_3__RSEM_isoforms_normalized__data'</dd>\n",
       "\t<dt>rnaseq_exon_quant</dt>\n",
       "\t\t<dd>'rnaseqv2__illuminahiseq_rnaseqv2__unc_edu__Level_3__exon_quantification__data'</dd>\n",
       "\t<dt>rnaseq_junc_quant</dt>\n",
       "\t\t<dd>'rnaseqv2__illuminahiseq_rnaseqv2__unc_edu__Level_3__junction_quantification__data'</dd>\n",
       "\t<dt>snp_seg_hg18</dt>\n",
       "\t\t<dd>'snp__genome_wide_snp_6__broad_mit_edu__Level_3__segmented_scna_hg18__seg'</dd>\n",
       "\t<dt>snp_seq_hg19</dt>\n",
       "\t\t<dd>'snp__genome_wide_snp_6__broad_mit_edu__Level_3__segmented_scna_hg19__seg'</dd>\n",
       "\t<dt>snp_seg_hg18_minus_germline</dt>\n",
       "\t\t<dd>'snp__genome_wide_snp_6__broad_mit_edu__Level_3__segmented_scna_minus_germline_cnv_hg18__seg'</dd>\n",
       "\t<dt>snp_seg_hg19_minus_germline</dt>\n",
       "\t\t<dd>'snp__genome_wide_snp_6__broad_mit_edu__Level_3__segmented_scna_minus_germline_cnv_hg19__seg'</dd>\n",
       "\t<dt>tx_agilent</dt>\n",
       "\t\t<dd>'transcriptome__agilentg4502a_07_3__unc_edu__Level_3__unc_lowess_normalization_gene_level__data'</dd>\n",
       "</dl>\n"
      ],
      "text/latex": [
       "\\begin{description*}\n",
       "\\item[biospecimen\\textbackslash{}\\_clin] 'clin\\_\\_bio\\_\\_nationwidechildrens\\_org\\_\\_Level\\_1\\_\\_biospecimen\\_\\_clin'\n",
       "\\item[clin] 'clin\\_\\_bio\\_\\_nationwidechildrens\\_org\\_\\_Level\\_1\\_\\_clinical\\_\\_clin'\n",
       "\\item[cna] 'cna\\_\\_illuminahiseq\\_dnaseqc\\_\\_hms\\_harvard\\_edu\\_\\_Level\\_3\\_\\_segmentation\\_\\_seg'\n",
       "\\item[meth27] 'methylation\\_\\_humanmethylation27\\_\\_jhu\\_usc\\_edu\\_\\_Level\\_3\\_\\_within\\_bioassay\\_data\\_set\\_function\\_\\_data'\n",
       "\\item[meth450] 'methylation\\_\\_humanmethylation450\\_\\_jhu\\_usc\\_edu\\_\\_Level\\_3\\_\\_within\\_bioassay\\_data\\_set\\_function\\_\\_data'\n",
       "\\item[mir\\textbackslash{}\\_ga\\textbackslash{}\\_gene] 'mirnaseq\\_\\_illuminaga\\_mirnaseq\\_\\_bcgsc\\_ca\\_\\_Level\\_3\\_\\_miR\\_gene\\_expression\\_\\_data'\n",
       "\\item[mir\\textbackslash{}\\_hiseq\\textbackslash{}\\_gene] 'mirnaseq\\_\\_illuminaga\\_mirnaseq\\_\\_bcgsc\\_ca\\_\\_Level\\_3\\_\\_miR\\_isoform\\_expression\\_\\_data'\n",
       "\\item[mir\\textbackslash{}\\_hiseq\\textbackslash{}\\_gene] 'mirnaseq\\_\\_illuminahiseq\\_mirnaseq\\_\\_bcgsc\\_ca\\_\\_Level\\_3\\_\\_miR\\_gene\\_expression\\_\\_data'\n",
       "\\item[mir\\textbackslash{}\\_hiseq\\textbackslash{}\\_iso] 'mirnaseq\\_\\_illuminahiseq\\_mirnaseq\\_\\_bcgsc\\_ca\\_\\_Level\\_3\\_\\_miR\\_isoform\\_expression\\_\\_data'\n",
       "\\item[rppa] 'protein\\_exp\\_\\_mda\\_rppa\\_core\\_\\_mdanderson\\_org\\_\\_Level\\_3\\_\\_protein\\_normalization\\_\\_data'\n",
       "\\item[rnaseq\\textbackslash{}\\_exon\\textbackslash{}\\_expr] 'rnaseq\\_\\_illuminahiseq\\_rnaseq\\_\\_unc\\_edu\\_\\_Level\\_3\\_\\_exon\\_expression\\_\\_data'\n",
       "\\item[rnaseq\\textbackslash{}\\_gene] 'rnaseq\\_\\_illuminahiseq\\_rnaseq\\_\\_unc\\_edu\\_\\_Level\\_3\\_\\_gene\\_expression\\_\\_data'\n",
       "\\item[rnaseq\\textbackslash{}\\_spljunc] 'rnaseq\\_\\_illuminahiseq\\_rnaseq\\_\\_unc\\_edu\\_\\_Level\\_3\\_\\_splice\\_junction\\_expression\\_\\_data'\n",
       "\\item[rsem\\textbackslash{}\\_genes] 'rnaseqv2\\_\\_illuminahiseq\\_rnaseqv2\\_\\_unc\\_edu\\_\\_Level\\_3\\_\\_RSEM\\_genes\\_\\_data'\n",
       "\\item[rsem\\textbackslash{}\\_genes\\textbackslash{}\\_norm] 'rnaseqv2\\_\\_illuminahiseq\\_rnaseqv2\\_\\_unc\\_edu\\_\\_Level\\_3\\_\\_RSEM\\_genes\\_normalized\\_\\_data'\n",
       "\\item[rsem\\textbackslash{}\\_isoforms] 'rnaseqv2\\_\\_illuminahiseq\\_rnaseqv2\\_\\_unc\\_edu\\_\\_Level\\_3\\_\\_RSEM\\_isoforms\\_\\_data'\n",
       "\\item[rsem\\textbackslash{}\\_isoforms\\textbackslash{}\\_norm] 'rnaseqv2\\_\\_illuminahiseq\\_rnaseqv2\\_\\_unc\\_edu\\_\\_Level\\_3\\_\\_RSEM\\_isoforms\\_normalized\\_\\_data'\n",
       "\\item[rnaseq\\textbackslash{}\\_exon\\textbackslash{}\\_quant] 'rnaseqv2\\_\\_illuminahiseq\\_rnaseqv2\\_\\_unc\\_edu\\_\\_Level\\_3\\_\\_exon\\_quantification\\_\\_data'\n",
       "\\item[rnaseq\\textbackslash{}\\_junc\\textbackslash{}\\_quant] 'rnaseqv2\\_\\_illuminahiseq\\_rnaseqv2\\_\\_unc\\_edu\\_\\_Level\\_3\\_\\_junction\\_quantification\\_\\_data'\n",
       "\\item[snp\\textbackslash{}\\_seg\\textbackslash{}\\_hg18] 'snp\\_\\_genome\\_wide\\_snp\\_6\\_\\_broad\\_mit\\_edu\\_\\_Level\\_3\\_\\_segmented\\_scna\\_hg18\\_\\_seg'\n",
       "\\item[snp\\textbackslash{}\\_seq\\textbackslash{}\\_hg19] 'snp\\_\\_genome\\_wide\\_snp\\_6\\_\\_broad\\_mit\\_edu\\_\\_Level\\_3\\_\\_segmented\\_scna\\_hg19\\_\\_seg'\n",
       "\\item[snp\\textbackslash{}\\_seg\\textbackslash{}\\_hg18\\textbackslash{}\\_minus\\textbackslash{}\\_germline] 'snp\\_\\_genome\\_wide\\_snp\\_6\\_\\_broad\\_mit\\_edu\\_\\_Level\\_3\\_\\_segmented\\_scna\\_minus\\_germline\\_cnv\\_hg18\\_\\_seg'\n",
       "\\item[snp\\textbackslash{}\\_seg\\textbackslash{}\\_hg19\\textbackslash{}\\_minus\\textbackslash{}\\_germline] 'snp\\_\\_genome\\_wide\\_snp\\_6\\_\\_broad\\_mit\\_edu\\_\\_Level\\_3\\_\\_segmented\\_scna\\_minus\\_germline\\_cnv\\_hg19\\_\\_seg'\n",
       "\\item[tx\\textbackslash{}\\_agilent] 'transcriptome\\_\\_agilentg4502a\\_07\\_3\\_\\_unc\\_edu\\_\\_Level\\_3\\_\\_unc\\_lowess\\_normalization\\_gene\\_level\\_\\_data'\n",
       "\\end{description*}\n"
      ],
      "text/markdown": [
       "biospecimen_clin\n",
       ":   'clin__bio__nationwidechildrens_org__Level_1__biospecimen__clin'clin\n",
       ":   'clin__bio__nationwidechildrens_org__Level_1__clinical__clin'cna\n",
       ":   'cna__illuminahiseq_dnaseqc__hms_harvard_edu__Level_3__segmentation__seg'meth27\n",
       ":   'methylation__humanmethylation27__jhu_usc_edu__Level_3__within_bioassay_data_set_function__data'meth450\n",
       ":   'methylation__humanmethylation450__jhu_usc_edu__Level_3__within_bioassay_data_set_function__data'mir_ga_gene\n",
       ":   'mirnaseq__illuminaga_mirnaseq__bcgsc_ca__Level_3__miR_gene_expression__data'mir_hiseq_gene\n",
       ":   'mirnaseq__illuminaga_mirnaseq__bcgsc_ca__Level_3__miR_isoform_expression__data'mir_hiseq_gene\n",
       ":   'mirnaseq__illuminahiseq_mirnaseq__bcgsc_ca__Level_3__miR_gene_expression__data'mir_hiseq_iso\n",
       ":   'mirnaseq__illuminahiseq_mirnaseq__bcgsc_ca__Level_3__miR_isoform_expression__data'rppa\n",
       ":   'protein_exp__mda_rppa_core__mdanderson_org__Level_3__protein_normalization__data'rnaseq_exon_expr\n",
       ":   'rnaseq__illuminahiseq_rnaseq__unc_edu__Level_3__exon_expression__data'rnaseq_gene\n",
       ":   'rnaseq__illuminahiseq_rnaseq__unc_edu__Level_3__gene_expression__data'rnaseq_spljunc\n",
       ":   'rnaseq__illuminahiseq_rnaseq__unc_edu__Level_3__splice_junction_expression__data'rsem_genes\n",
       ":   'rnaseqv2__illuminahiseq_rnaseqv2__unc_edu__Level_3__RSEM_genes__data'rsem_genes_norm\n",
       ":   'rnaseqv2__illuminahiseq_rnaseqv2__unc_edu__Level_3__RSEM_genes_normalized__data'rsem_isoforms\n",
       ":   'rnaseqv2__illuminahiseq_rnaseqv2__unc_edu__Level_3__RSEM_isoforms__data'rsem_isoforms_norm\n",
       ":   'rnaseqv2__illuminahiseq_rnaseqv2__unc_edu__Level_3__RSEM_isoforms_normalized__data'rnaseq_exon_quant\n",
       ":   'rnaseqv2__illuminahiseq_rnaseqv2__unc_edu__Level_3__exon_quantification__data'rnaseq_junc_quant\n",
       ":   'rnaseqv2__illuminahiseq_rnaseqv2__unc_edu__Level_3__junction_quantification__data'snp_seg_hg18\n",
       ":   'snp__genome_wide_snp_6__broad_mit_edu__Level_3__segmented_scna_hg18__seg'snp_seq_hg19\n",
       ":   'snp__genome_wide_snp_6__broad_mit_edu__Level_3__segmented_scna_hg19__seg'snp_seg_hg18_minus_germline\n",
       ":   'snp__genome_wide_snp_6__broad_mit_edu__Level_3__segmented_scna_minus_germline_cnv_hg18__seg'snp_seg_hg19_minus_germline\n",
       ":   'snp__genome_wide_snp_6__broad_mit_edu__Level_3__segmented_scna_minus_germline_cnv_hg19__seg'tx_agilent\n",
       ":   'transcriptome__agilentg4502a_07_3__unc_edu__Level_3__unc_lowess_normalization_gene_level__data'\n",
       "\n"
      ],
      "text/plain": [
       "                                                                                 biospecimen_clin \n",
       "                                 \"clin__bio__nationwidechildrens_org__Level_1__biospecimen__clin\" \n",
       "                                                                                             clin \n",
       "                                    \"clin__bio__nationwidechildrens_org__Level_1__clinical__clin\" \n",
       "                                                                                              cna \n",
       "                        \"cna__illuminahiseq_dnaseqc__hms_harvard_edu__Level_3__segmentation__seg\" \n",
       "                                                                                           meth27 \n",
       " \"methylation__humanmethylation27__jhu_usc_edu__Level_3__within_bioassay_data_set_function__data\" \n",
       "                                                                                          meth450 \n",
       "\"methylation__humanmethylation450__jhu_usc_edu__Level_3__within_bioassay_data_set_function__data\" \n",
       "                                                                                      mir_ga_gene \n",
       "                    \"mirnaseq__illuminaga_mirnaseq__bcgsc_ca__Level_3__miR_gene_expression__data\" \n",
       "                                                                                   mir_hiseq_gene \n",
       "                 \"mirnaseq__illuminaga_mirnaseq__bcgsc_ca__Level_3__miR_isoform_expression__data\" \n",
       "                                                                                   mir_hiseq_gene \n",
       "                 \"mirnaseq__illuminahiseq_mirnaseq__bcgsc_ca__Level_3__miR_gene_expression__data\" \n",
       "                                                                                    mir_hiseq_iso \n",
       "              \"mirnaseq__illuminahiseq_mirnaseq__bcgsc_ca__Level_3__miR_isoform_expression__data\" \n",
       "                                                                                             rppa \n",
       "               \"protein_exp__mda_rppa_core__mdanderson_org__Level_3__protein_normalization__data\" \n",
       "                                                                                 rnaseq_exon_expr \n",
       "                          \"rnaseq__illuminahiseq_rnaseq__unc_edu__Level_3__exon_expression__data\" \n",
       "                                                                                      rnaseq_gene \n",
       "                          \"rnaseq__illuminahiseq_rnaseq__unc_edu__Level_3__gene_expression__data\" \n",
       "                                                                                   rnaseq_spljunc \n",
       "               \"rnaseq__illuminahiseq_rnaseq__unc_edu__Level_3__splice_junction_expression__data\" \n",
       "                                                                                       rsem_genes \n",
       "                           \"rnaseqv2__illuminahiseq_rnaseqv2__unc_edu__Level_3__RSEM_genes__data\" \n",
       "                                                                                  rsem_genes_norm \n",
       "                \"rnaseqv2__illuminahiseq_rnaseqv2__unc_edu__Level_3__RSEM_genes_normalized__data\" \n",
       "                                                                                    rsem_isoforms \n",
       "                        \"rnaseqv2__illuminahiseq_rnaseqv2__unc_edu__Level_3__RSEM_isoforms__data\" \n",
       "                                                                               rsem_isoforms_norm \n",
       "             \"rnaseqv2__illuminahiseq_rnaseqv2__unc_edu__Level_3__RSEM_isoforms_normalized__data\" \n",
       "                                                                                rnaseq_exon_quant \n",
       "                  \"rnaseqv2__illuminahiseq_rnaseqv2__unc_edu__Level_3__exon_quantification__data\" \n",
       "                                                                                rnaseq_junc_quant \n",
       "              \"rnaseqv2__illuminahiseq_rnaseqv2__unc_edu__Level_3__junction_quantification__data\" \n",
       "                                                                                     snp_seg_hg18 \n",
       "                       \"snp__genome_wide_snp_6__broad_mit_edu__Level_3__segmented_scna_hg18__seg\" \n",
       "                                                                                     snp_seq_hg19 \n",
       "                       \"snp__genome_wide_snp_6__broad_mit_edu__Level_3__segmented_scna_hg19__seg\" \n",
       "                                                                      snp_seg_hg18_minus_germline \n",
       "    \"snp__genome_wide_snp_6__broad_mit_edu__Level_3__segmented_scna_minus_germline_cnv_hg18__seg\" \n",
       "                                                                      snp_seg_hg19_minus_germline \n",
       "    \"snp__genome_wide_snp_6__broad_mit_edu__Level_3__segmented_scna_minus_germline_cnv_hg19__seg\" \n",
       "                                                                                       tx_agilent \n",
       " \"transcriptome__agilentg4502a_07_3__unc_edu__Level_3__unc_lowess_normalization_gene_level__data\" "
      ]
     },
     "metadata": {},
     "output_type": "display_data"
    }
   ],
   "source": [
    "gdc_assay_map()"
   ]
  },
  {
   "cell_type": "markdown",
   "metadata": {},
   "source": [
    "A matrix of gene-level quantifications is readily produced using the abbreviations in the `build_tcga_mat` function."
   ]
  },
  {
   "cell_type": "code",
   "execution_count": 33,
   "metadata": {},
   "outputs": [],
   "source": [
    "if (dir.exists(\"gbm_rsem_genes_norm__terra_txt\")) unlink(\"gbm_rsem_genes_norm__terra_txt\", recursive=TRUE)"
   ]
  },
  {
   "cell_type": "code",
   "execution_count": 34,
   "metadata": {},
   "outputs": [
    {
     "data": {
      "text/html": [
       "<ol class=list-inline>\n",
       "\t<li>20531</li>\n",
       "\t<li>166</li>\n",
       "</ol>\n"
      ],
      "text/latex": [
       "\\begin{enumerate*}\n",
       "\\item 20531\n",
       "\\item 166\n",
       "\\end{enumerate*}\n"
      ],
      "text/markdown": [
       "1. 20531\n",
       "2. 166\n",
       "\n",
       "\n"
      ],
      "text/plain": [
       "[1] 20531   166"
      ]
     },
     "metadata": {},
     "output_type": "display_data"
    },
    {
     "data": {
      "text/html": [
       "<table>\n",
       "<caption>A matrix: 4 × 4 of type dbl</caption>\n",
       "<thead>\n",
       "\t<tr><th></th><th scope=col>TCGA-02-0047-01A-01R-1849-01</th><th scope=col>TCGA-02-0055-01A-01R-1849-01</th><th scope=col>TCGA-02-2483-01A-01R-1849-01</th><th scope=col>TCGA-02-2485-01A-01R-1849-01</th></tr>\n",
       "</thead>\n",
       "<tbody>\n",
       "\t<tr><th scope=row>?|100130426</th><td> 0.0000</td><td> 0.0000</td><td> 0.0000</td><td> 0.0000</td></tr>\n",
       "\t<tr><th scope=row>?|100133144</th><td> 3.0732</td><td> 0.0000</td><td> 2.9467</td><td>15.9952</td></tr>\n",
       "\t<tr><th scope=row>?|100134869</th><td> 6.7611</td><td>15.6973</td><td>13.9398</td><td>14.9571</td></tr>\n",
       "\t<tr><th scope=row>?|10357</th><td>54.7036</td><td>31.3945</td><td>60.3441</td><td>91.8238</td></tr>\n",
       "</tbody>\n",
       "</table>\n"
      ],
      "text/latex": [
       "A matrix: 4 × 4 of type dbl\n",
       "\\begin{tabular}{r|llll}\n",
       "  & TCGA-02-0047-01A-01R-1849-01 & TCGA-02-0055-01A-01R-1849-01 & TCGA-02-2483-01A-01R-1849-01 & TCGA-02-2485-01A-01R-1849-01\\\\\n",
       "\\hline\n",
       "\t?\\textbar{}100130426 &  0.0000 &  0.0000 &  0.0000 &  0.0000\\\\\n",
       "\t?\\textbar{}100133144 &  3.0732 &  0.0000 &  2.9467 & 15.9952\\\\\n",
       "\t?\\textbar{}100134869 &  6.7611 & 15.6973 & 13.9398 & 14.9571\\\\\n",
       "\t?\\textbar{}10357 & 54.7036 & 31.3945 & 60.3441 & 91.8238\\\\\n",
       "\\end{tabular}\n"
      ],
      "text/markdown": [
       "\n",
       "A matrix: 4 × 4 of type dbl\n",
       "\n",
       "| <!--/--> | TCGA-02-0047-01A-01R-1849-01 | TCGA-02-0055-01A-01R-1849-01 | TCGA-02-2483-01A-01R-1849-01 | TCGA-02-2485-01A-01R-1849-01 |\n",
       "|---|---|---|---|---|\n",
       "| ?|100130426 |  0.0000 |  0.0000 |  0.0000 |  0.0000 |\n",
       "| ?|100133144 |  3.0732 |  0.0000 |  2.9467 | 15.9952 |\n",
       "| ?|100134869 |  6.7611 | 15.6973 | 13.9398 | 14.9571 |\n",
       "| ?|10357 | 54.7036 | 31.3945 | 60.3441 | 91.8238 |\n",
       "\n"
      ],
      "text/plain": [
       "            TCGA-02-0047-01A-01R-1849-01 TCGA-02-0055-01A-01R-1849-01\n",
       "?|100130426  0.0000                       0.0000                     \n",
       "?|100133144  3.0732                       0.0000                     \n",
       "?|100134869  6.7611                      15.6973                     \n",
       "?|10357     54.7036                      31.3945                     \n",
       "            TCGA-02-2483-01A-01R-1849-01 TCGA-02-2485-01A-01R-1849-01\n",
       "?|100130426  0.0000                       0.0000                     \n",
       "?|100133144  2.9467                      15.9952                     \n",
       "?|100134869 13.9398                      14.9571                     \n",
       "?|10357     60.3441                      91.8238                     "
      ]
     },
     "metadata": {},
     "output_type": "display_data"
    }
   ],
   "source": [
    "gex = build_tcga_mat(\"gbm\", \"rsem_genes_norm\")\n",
    "dim(gex)\n",
    "gex[1:4,1:4]"
   ]
  },
  {
   "cell_type": "code",
   "execution_count": 35,
   "metadata": {},
   "outputs": [
    {
     "data": {
      "text/plain": [
       "R version 3.6.1 (2019-07-05)\n",
       "Platform: x86_64-pc-linux-gnu (64-bit)\n",
       "Running under: Ubuntu 18.04.3 LTS\n",
       "\n",
       "Matrix products: default\n",
       "BLAS:   /usr/lib/x86_64-linux-gnu/blas/libblas.so.3.7.1\n",
       "LAPACK: /usr/lib/x86_64-linux-gnu/lapack/liblapack.so.3.7.1\n",
       "\n",
       "locale:\n",
       " [1] LC_CTYPE=en_US.UTF-8       LC_NUMERIC=C              \n",
       " [3] LC_TIME=en_US.UTF-8        LC_COLLATE=en_US.UTF-8    \n",
       " [5] LC_MONETARY=en_US.UTF-8    LC_MESSAGES=en_US.UTF-8   \n",
       " [7] LC_PAPER=en_US.UTF-8       LC_NAME=C                 \n",
       " [9] LC_ADDRESS=C               LC_TELEPHONE=C            \n",
       "[11] LC_MEASUREMENT=en_US.UTF-8 LC_IDENTIFICATION=C       \n",
       "\n",
       "attached base packages:\n",
       "[1] stats     graphics  grDevices utils     datasets  methods   base     \n",
       "\n",
       "other attached packages:\n",
       "[1] BiocAnvilTK_0.0.0  AnVIL_0.0.28       dplyr_0.8.3        BiocManager_1.30.9\n",
       "\n",
       "loaded via a namespace (and not attached):\n",
       " [1] Rcpp_1.0.2           formatR_1.7          pillar_1.4.2        \n",
       " [4] compiler_3.6.1       futile.logger_1.4.3  futile.options_1.0.1\n",
       " [7] prettyunits_1.0.2    base64enc_0.1-3      remotes_2.1.0       \n",
       "[10] tools_3.6.1          zeallot_0.1.0        digest_0.6.22       \n",
       "[13] pkgbuild_1.0.6       uuid_0.1-2           jsonlite_1.6        \n",
       "[16] evaluate_0.14        tibble_2.1.3         pkgconfig_2.0.3     \n",
       "[19] rlang_0.4.1          IRdisplay_0.7.0      cli_1.1.0           \n",
       "[22] yaml_2.2.0           curl_4.2             IRkernel_1.0.2.9000 \n",
       "[25] httr_1.4.1           repr_1.0.1           withr_2.1.2         \n",
       "[28] vctrs_0.2.0          rprojroot_1.3-2      tidyselect_0.2.5    \n",
       "[31] glue_1.3.1           R6_2.4.0             processx_3.4.1      \n",
       "[34] fansi_0.4.0          pbdZMQ_0.3-3         lambda.r_1.2.4      \n",
       "[37] callr_3.3.2          purrr_0.3.3          magrittr_1.5        \n",
       "[40] backports_1.1.5      ps_1.3.0             htmltools_0.4.0     \n",
       "[43] rapiclient_0.1.2.3-3 assertthat_0.2.1     utf8_1.1.4          \n",
       "[46] crayon_1.3.4        "
      ]
     },
     "metadata": {},
     "output_type": "display_data"
    }
   ],
   "source": [
    "sessionInfo()"
   ]
  },
  {
   "cell_type": "code",
   "execution_count": null,
   "metadata": {},
   "outputs": [],
   "source": [
    "# TO DO: the localization can occur in a temporary folder once we have sufficient experience"
   ]
  }
 ],
 "metadata": {
  "kernelspec": {
   "display_name": "R",
   "language": "R",
   "name": "ir"
  },
  "language_info": {
   "codemirror_mode": "r",
   "file_extension": ".r",
   "mimetype": "text/x-r-source",
   "name": "R",
   "pygments_lexer": "r",
   "version": "3.6.1"
  },
  "toc": {
   "base_numbering": 1,
   "nav_menu": {},
   "number_sections": true,
   "sideBar": true,
   "skip_h1_title": false,
   "title_cell": "Table of Contents",
   "title_sidebar": "Contents",
   "toc_cell": false,
   "toc_position": {},
   "toc_section_display": true,
   "toc_window_display": false
  }
 },
 "nbformat": 4,
 "nbformat_minor": 2
}
